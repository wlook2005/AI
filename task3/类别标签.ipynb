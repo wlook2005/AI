{
 "cells": [
  {
   "cell_type": "code",
   "execution_count": 1,
   "id": "06e96776-ca88-4790-8366-ccf6f9ac1e12",
   "metadata": {},
   "outputs": [],
   "source": [
    "from sklearn.feature_extraction.text import TfidfVectorizer\n",
    "from sklearn.linear_model import LogisticRegression\n",
    "from sklearn.pipeline import make_pipeline\n",
    "from sklearn.model_selection import train_test_split\n",
    "from sklearn.metrics import classification_report"
   ]
  },
  {
   "cell_type": "code",
   "execution_count": 2,
   "id": "b584c7b0-d28c-4386-b67d-112e594de353",
   "metadata": {},
   "outputs": [],
   "source": [
    "\n",
    "# 假设我们有这样的数据结构\n",
    "data = {\n",
    "    \"text\": ['患者咳嗽，发热', '患者鼻流涕', '患者咳嗽，发热', '患者鼻流涕', '患者咳嗽，发热', '患者鼻流涕', '患者咳嗽，发热', '患者鼻流涕', '患者咳嗽，发热', '患者鼻流涕'],\n",
    "    \"normalized_label\": [0, 1, 0, 1, 0, 1, 0, 1, 0, 1],  # 归一化标签\n",
    "    \"category_label\": [0, 1, 0, 1, 0, 1, 0, 1, 0, 1]     # 类别标签\n",
    "    }\n"
   ]
  },
  {
   "cell_type": "code",
   "execution_count": 3,
   "id": "b697f8c7-c690-4c50-a782-2645be19657f",
   "metadata": {},
   "outputs": [
    {
     "data": {
      "text/plain": [
       "dict"
      ]
     },
     "execution_count": 3,
     "metadata": {},
     "output_type": "execute_result"
    }
   ],
   "source": [
    "type(data)"
   ]
  },
  {
   "cell_type": "code",
   "execution_count": 4,
   "id": "714c2e2e-31b7-4ced-8865-0b354e59f08f",
   "metadata": {},
   "outputs": [],
   "source": [
    "# 分割数据集\n",
    "texts = data[\"text\"]\n",
    "labels_norm = data[\"normalized_label\"]\n",
    "labels_cat = data[\"category_label\"]"
   ]
  },
  {
   "cell_type": "code",
   "execution_count": 5,
   "id": "92c9be3a-2288-4d11-b7c7-31098ecc7998",
   "metadata": {},
   "outputs": [],
   "source": [
    "X_train, X_test, y_train_norm, y_test_norm, y_train_cat, y_test_cat = train_test_split(\n",
    "    texts, labels_norm, labels_cat, test_size=0.2, random_state=42)"
   ]
  },
  {
   "cell_type": "code",
   "execution_count": 6,
   "id": "720d7ae5-bd62-45a1-b639-0ae78c1b187b",
   "metadata": {},
   "outputs": [],
   "source": [
    "\n",
    "# 创建管道\n",
    "pipeline = make_pipeline(TfidfVectorizer(), LogisticRegression())"
   ]
  },
  {
   "cell_type": "code",
   "execution_count": null,
   "id": "02f84bd6-2482-4140-8742-4c46c71097f9",
   "metadata": {},
   "outputs": [],
   "source": []
  },
  {
   "cell_type": "code",
   "execution_count": 7,
   "id": "8a8c8492-098c-4418-846f-23e9ba404878",
   "metadata": {},
   "outputs": [],
   "source": [
    "# 分别训练两个模型\n",
    "model_norm = pipeline.fit(X_train, y_train_norm)\n",
    "model_cat = pipeline.fit(X_train, y_train_cat)\n"
   ]
  },
  {
   "cell_type": "code",
   "execution_count": 8,
   "id": "7512f89d-ae90-4f26-b717-5bf8bcbe7e20",
   "metadata": {},
   "outputs": [],
   "source": [
    "\n",
    "# 进行预测\n",
    "y_pred_norm = model_norm.predict(X_test)\n",
    "y_pred_cat = model_cat.predict(X_test)\n",
    "\n"
   ]
  },
  {
   "cell_type": "code",
   "execution_count": 9,
   "id": "e13c1dcc-1c71-4731-9691-4b0a8d7b9714",
   "metadata": {},
   "outputs": [
    {
     "name": "stdout",
     "output_type": "stream",
     "text": [
      "归一化标签预测结果:\n",
      "              precision    recall  f1-score   support\n",
      "\n",
      "           0       1.00      1.00      1.00         1\n",
      "           1       1.00      1.00      1.00         1\n",
      "\n",
      "    accuracy                           1.00         2\n",
      "   macro avg       1.00      1.00      1.00         2\n",
      "weighted avg       1.00      1.00      1.00         2\n",
      "\n",
      "\n",
      "类别标签预测结果:\n",
      "              precision    recall  f1-score   support\n",
      "\n",
      "           0       1.00      1.00      1.00         1\n",
      "           1       1.00      1.00      1.00         1\n",
      "\n",
      "    accuracy                           1.00         2\n",
      "   macro avg       1.00      1.00      1.00         2\n",
      "weighted avg       1.00      1.00      1.00         2\n",
      "\n"
     ]
    }
   ],
   "source": [
    "# 打印结果\n",
    "print(\"归一化标签预测结果:\")\n",
    "print(classification_report(y_test_norm, y_pred_norm))\n",
    "print(\"\\n类别标签预测结果:\")\n",
    "print(classification_report(y_test_cat, y_pred_cat))"
   ]
  },
  {
   "cell_type": "code",
   "execution_count": null,
   "id": "95ccfe67-d2b3-4968-889d-56246a97cf67",
   "metadata": {},
   "outputs": [],
   "source": []
  }
 ],
 "metadata": {
  "kernelspec": {
   "display_name": "Python 3 (ipykernel)",
   "language": "python",
   "name": "python3"
  },
  "language_info": {
   "codemirror_mode": {
    "name": "ipython",
    "version": 3
   },
   "file_extension": ".py",
   "mimetype": "text/x-python",
   "name": "python",
   "nbconvert_exporter": "python",
   "pygments_lexer": "ipython3",
   "version": "3.11.8"
  }
 },
 "nbformat": 4,
 "nbformat_minor": 5
}
