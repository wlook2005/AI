{
 "cells": [
  {
   "cell_type": "code",
   "execution_count": 4,
   "id": "cfd26552-4cbc-4882-b1cc-ba98bd3ce4ad",
   "metadata": {},
   "outputs": [],
   "source": [
    "import pandas as pd\n",
    "import json"
   ]
  },
  {
   "cell_type": "code",
   "execution_count": 5,
   "id": "d70b338d-c3b3-4c52-80b5-f8cc0ae543b9",
   "metadata": {},
   "outputs": [],
   "source": [
    "data=pd.read_json(path_or_buf='IMCS-V2_train.json',orient=\"index\")"
   ]
  },
  {
   "cell_type": "code",
   "execution_count": 6,
   "id": "13f7b0a4-ec6e-419d-9fd2-35ab6ad8b59e",
   "metadata": {
    "scrolled": true
   },
   "outputs": [],
   "source": [
    "#data"
   ]
  },
  {
   "cell_type": "code",
   "execution_count": 7,
   "id": "655b5f72-6014-4adb-b002-d8a8572b7275",
   "metadata": {},
   "outputs": [],
   "source": [
    "dialogues = data['dialogue']"
   ]
  },
  {
   "cell_type": "code",
   "execution_count": 9,
   "id": "262ea8e8-9e4e-4a8b-99ee-77f5a9685119",
   "metadata": {},
   "outputs": [],
   "source": [
    "results=[]\n",
    "sys_prompt=\"\"\"你是医疗领域症状识别(SR)专家！\n",
    "请根据用户输入的医生与患者对话文本内容识别患者的症状类别。\"\"\"\n",
    "\n",
    "for dialog in dialogues:\n",
    "    for idx in range(len(dialog)):\n",
    "        speaker = dialog[idx]['speaker']\n",
    "        sentence = dialog[idx]['sentence']\n",
    "        symptom = dialog[idx]['local_implicit_info']\n",
    "        if symptom:\n",
    "            symptom\n",
    "            result = {\n",
    "                \"instruction\": speaker + \":\" + sentence,#人类指令\n",
    "                \"input\": \"\",\n",
    "                \"output\": '{\"symptom\": \"'  + str(symptom) + '\"}',\n",
    "                \"system\": sys_prompt}\n",
    "            results.append(result)\n"
   ]
  },
  {
   "cell_type": "code",
   "execution_count": 10,
   "id": "f82fa9bf-e855-40e0-a7e8-dd07869799ad",
   "metadata": {},
   "outputs": [],
   "source": [
    "#results"
   ]
  },
  {
   "cell_type": "code",
   "execution_count": 24,
   "id": "91368a52-dc89-420b-93e3-1bb6c21a51ac",
   "metadata": {},
   "outputs": [],
   "source": [
    "with open(file=\"symptom.json\", mode=\"w\", encoding=\"utf8\") as f:\n",
    "    json.dump(obj=results, fp=f, ensure_ascii=False)"
   ]
  },
  {
   "cell_type": "code",
   "execution_count": null,
   "id": "c7e5f67e-d4c7-4937-8e2d-82e14d0be002",
   "metadata": {},
   "outputs": [],
   "source": []
  },
  {
   "cell_type": "code",
   "execution_count": null,
   "id": "2cc9fdd9-d20e-4bff-9922-8eeb64f9d997",
   "metadata": {},
   "outputs": [],
   "source": []
  }
 ],
 "metadata": {
  "kernelspec": {
   "display_name": "Python 3 (ipykernel)",
   "language": "python",
   "name": "python3"
  },
  "language_info": {
   "codemirror_mode": {
    "name": "ipython",
    "version": 3
   },
   "file_extension": ".py",
   "mimetype": "text/x-python",
   "name": "python",
   "nbconvert_exporter": "python",
   "pygments_lexer": "ipython3",
   "version": "3.11.8"
  }
 },
 "nbformat": 4,
 "nbformat_minor": 5
}
